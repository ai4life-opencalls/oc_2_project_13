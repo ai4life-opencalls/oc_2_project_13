{
 "cells": [
  {
   "cell_type": "code",
   "execution_count": 1,
   "metadata": {},
   "outputs": [
    {
     "data": {
      "text/plain": [
       "[PosixPath('/group/jug/projects/AI4Life/calcium_imaging/DeepCAD/20ms_20%_001.tif'),\n",
       " PosixPath('/group/jug/projects/AI4Life/calcium_imaging/DeepCAD/20ms_20%_002.tif'),\n",
       " PosixPath('/group/jug/projects/AI4Life/calcium_imaging/DeepCAD/20ms_20%_003.tif'),\n",
       " PosixPath('/group/jug/projects/AI4Life/calcium_imaging/DeepCAD/20ms_20%_004.tif'),\n",
       " PosixPath('/group/jug/projects/AI4Life/calcium_imaging/DeepCAD/20ms_20%_005.tif'),\n",
       " PosixPath('/group/jug/projects/AI4Life/calcium_imaging/DeepCAD/20ms_20%_006.tif'),\n",
       " PosixPath('/group/jug/projects/AI4Life/calcium_imaging/DeepCAD/20ms_20%_007.tif'),\n",
       " PosixPath('/group/jug/projects/AI4Life/calcium_imaging/DeepCAD/20ms_20%_008.tif'),\n",
       " PosixPath('/group/jug/projects/AI4Life/calcium_imaging/DeepCAD/20ms_20%_009.tif'),\n",
       " PosixPath('/group/jug/projects/AI4Life/calcium_imaging/DeepCAD/20ms_20%_010.tif'),\n",
       " PosixPath('/group/jug/projects/AI4Life/calcium_imaging/DeepCAD/Yoda1_20ms_20%_001.tif'),\n",
       " PosixPath('/group/jug/projects/AI4Life/calcium_imaging/DeepCAD/Yoda1_20ms_20%_002.tif'),\n",
       " PosixPath('/group/jug/projects/AI4Life/calcium_imaging/DeepCAD/Yoda1_20ms_20%_003.tif'),\n",
       " PosixPath('/group/jug/projects/AI4Life/calcium_imaging/DeepCAD/Yoda1_20ms_20%_004.tif'),\n",
       " PosixPath('/group/jug/projects/AI4Life/calcium_imaging/DeepCAD/Yoda1_20ms_20%_005.tif'),\n",
       " PosixPath('/group/jug/projects/AI4Life/calcium_imaging/DeepCAD/Yoda1_20ms_20%_006.tif'),\n",
       " PosixPath('/group/jug/projects/AI4Life/calcium_imaging/DeepCAD/Yoda1_20ms_20%_007.tif'),\n",
       " PosixPath('/group/jug/projects/AI4Life/calcium_imaging/DeepCAD/Yoda1_20ms_20%_008.tif'),\n",
       " PosixPath('/group/jug/projects/AI4Life/calcium_imaging/DeepCAD/Yoda1_20ms_20%_009.tif'),\n",
       " PosixPath('/group/jug/projects/AI4Life/calcium_imaging/DeepCAD/Yoda1_20ms_20%_010.tif')]"
      ]
     },
     "execution_count": 1,
     "metadata": {},
     "output_type": "execute_result"
    }
   ],
   "source": [
    "from dotenv import load_dotenv\n",
    "load_dotenv()\n",
    "\n",
    "from pathlib import Path\n",
    "import os\n",
    "import glob\n",
    "import tifffile\n",
    "import matplotlib.pyplot as plt\n",
    "\n",
    "\n",
    "DATASET_FOLDER = os.getenv('DATASET_FOLDER')\n",
    "DATASET_SUBFOLDER = os.path.join(DATASET_FOLDER, 'DeepCAD')\n",
    "ALL_TIF = sorted(Path(DATASET_SUBFOLDER).glob('*.tif'))\n",
    "ALL_TIF"
   ]
  },
  {
   "cell_type": "code",
   "execution_count": null,
   "metadata": {},
   "outputs": [],
   "source": [
    "import numpy as np\n",
    "\n",
    "SAMPLE_INDEX = 5\n",
    "sample_path = ALL_TIF[SAMPLE_INDEX]\n",
    "sample = tifffile.imread(sample_path)\n",
    "\n",
    "sample_logvar = np.log10(sample.var(axis=0) + 1e-10)\n",
    "plt.imshow(sample_logvar)\n",
    "plt.axis('off')\n",
    "plt.colorbar()\n",
    "plt.title(f\"Temporal log-variance of {sample_path.name}\")\n"
   ]
  },
  {
   "cell_type": "code",
   "execution_count": null,
   "metadata": {},
   "outputs": [],
   "source": []
  },
  {
   "cell_type": "code",
   "execution_count": null,
   "metadata": {},
   "outputs": [],
   "source": [
    "sample_path.name"
   ]
  },
  {
   "cell_type": "code",
   "execution_count": null,
   "metadata": {},
   "outputs": [],
   "source": [
    "import matplotlib.pyplot as plt\n",
    "from matplotlib.animation import FuncAnimation"
   ]
  },
  {
   "cell_type": "code",
   "execution_count": null,
   "metadata": {},
   "outputs": [],
   "source": [
    "\n",
    "def animate_tiff(data):\n",
    " \n",
    "    fig, ax = plt.subplots()\n",
    "    \n",
    "    image = ax.imshow(data[0], cmap='gray')\n",
    "    \n",
    "    def update(frame):\n",
    "        image.set_array(data[frame])\n",
    "        ax.set_title(f\"Frame {frame}\") \n",
    "        return [image]\n",
    "    \n",
    "    ani = FuncAnimation(fig, update, frames=len(data), blit=True)\n",
    "    return HTML(ani.to_jshtml())\n",
    "\n",
    "animate_tiff(sample)"
   ]
  },
  {
   "cell_type": "code",
   "execution_count": null,
   "metadata": {},
   "outputs": [],
   "source": []
  },
  {
   "cell_type": "code",
   "execution_count": null,
   "metadata": {},
   "outputs": [],
   "source": []
  },
  {
   "cell_type": "code",
   "execution_count": null,
   "metadata": {},
   "outputs": [],
   "source": []
  }
 ],
 "metadata": {
  "kernelspec": {
   "display_name": "Python 3",
   "language": "python",
   "name": "python3"
  },
  "language_info": {
   "codemirror_mode": {
    "name": "ipython",
    "version": 3
   },
   "file_extension": ".py",
   "mimetype": "text/x-python",
   "name": "python",
   "nbconvert_exporter": "python",
   "pygments_lexer": "ipython3",
   "version": "3.10.14"
  }
 },
 "nbformat": 4,
 "nbformat_minor": 2
}
