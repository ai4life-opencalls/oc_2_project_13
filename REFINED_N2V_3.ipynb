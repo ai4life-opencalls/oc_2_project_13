{
 "cells": [
  {
   "cell_type": "markdown",
   "metadata": {},
   "source": [
    "# Noise2Void on 3D Patches applied to Refined Dataset\n",
    "\n",
    "In this experiment we trained a model on the REFINED train set, using no augmentations and a 3D patch size of 64x64x64. \n",
    "\n",
    "The following command was used to train the model:\n",
    "\n",
    "```bash\n",
    "python n2v_train.py \n",
    "-e .env_hpc \n",
    "--level DEBUG \n",
    "--train_dataset_name=train \n",
    "--validation_dataset_name=val \n",
    "--DATASET_FOLDER=/scratch/edoardo.giacomello/calcium_imaging/refined \n",
    "--experiment_name=REFINED_N2V_3 \n",
    "--patch_size_z=64 \n",
    "--batch_size=1 \n",
    "--axes=ZYX\n",
    "```\n",
    "\n",
    "Predictions were made on the train set to enable further models to be trained on the predictions. The following command was used to make predictions:\n",
    "\n",
    "```bash\n",
    "python n2v_predict.py\n",
    " -e .env_hpc \n",
    " --level DEBUG \n",
    " --dataset_name=train \n",
    " --DATASET_FOLDER=/scratch/edoardo.giacomello/calcium_imaging/refined \n",
    " --experiment_name=REFINED_N2V_3 \n",
    " --patch_size_z=64 \n",
    " --batch_size=4 \n",
    " --axes=ZYX\n",
    "```"
   ]
  },
  {
   "cell_type": "markdown",
   "metadata": {},
   "source": [
    "# Model Output"
   ]
  },
  {
   "cell_type": "code",
   "execution_count": null,
   "metadata": {},
   "outputs": [
    {
     "data": {
      "application/vnd.jupyter.widget-view+json": {
       "model_id": "e1742bcf6fb74f6ea1a3363c64aa8ce3",
       "version_major": 2,
       "version_minor": 0
      },
      "text/plain": [
       "interactive(children=(IntSlider(value=0, description='T', max=1008), Output()), _dom_classes=('widget-interact…"
      ]
     },
     "metadata": {},
     "output_type": "display_data"
    }
   ],
   "source": [
    "import tifffile\n",
    "import matplotlib.pyplot as plt\n",
    "\n",
    "import ipywidgets as widgets\n",
    "from IPython.display import display\n",
    "\n",
    "def display_image_with_slider(image):\n",
    "    T, Y, X = image.shape\n",
    "    vmin = image.min()\n",
    "    vmax = image.max()\n",
    "\n",
    "    def update_image(t):\n",
    "        plt.figure(figsize=(10, 10))  # Set the figure size\n",
    "        plt.imshow(image[t], cmap='gray', vmin=vmin, vmax=vmax)\n",
    "        plt.show()\n",
    "\n",
    "    slider = widgets.IntSlider(min=0, max=T-1, step=1, description='T')\n",
    "    widgets.interact(update_image, t=slider)\n",
    "\n",
    "\n",
    "EXAMPLE_TIFF = \"output/REFINED_N2V_3/20ms_20%_Yoda1_005.tif\"\n",
    "\n",
    "example_image = tifffile.imread(EXAMPLE_TIFF)\n",
    "display_image_with_slider(example_image)\n"
   ]
  },
  {
   "cell_type": "markdown",
   "metadata": {},
   "source": [
    "# Subtract the average noise from the microscope"
   ]
  },
  {
   "cell_type": "code",
   "execution_count": null,
   "metadata": {},
   "outputs": [
    {
     "data": {
      "application/vnd.jupyter.widget-view+json": {
       "model_id": "b30a31e001614789b3a215c2a7b7ae01",
       "version_major": 2,
       "version_minor": 0
      },
      "text/plain": [
       "interactive(children=(IntSlider(value=0, description='T', max=1008), Output()), _dom_classes=('widget-interact…"
      ]
     },
     "metadata": {},
     "output_type": "display_data"
    }
   ],
   "source": [
    "background_noise = tifffile.imread(\"/localscratch/calcium_imaging_dataset/calcium_imaging/average_image.tif\")\n",
    "mean_subtracted = example_image - background_noise\n",
    "display_image_with_slider(mean_subtracted)"
   ]
  }
 ],
 "metadata": {
  "kernelspec": {
   "display_name": "ai4life_calcium_imaging_denoising",
   "language": "python",
   "name": "python3"
  },
  "language_info": {
   "codemirror_mode": {
    "name": "ipython",
    "version": 3
   },
   "file_extension": ".py",
   "mimetype": "text/x-python",
   "name": "python",
   "nbconvert_exporter": "python",
   "pygments_lexer": "ipython3",
   "version": "3.10.14"
  }
 },
 "nbformat": 4,
 "nbformat_minor": 2
}
