{
 "cells": [
  {
   "cell_type": "code",
   "execution_count": null,
   "metadata": {},
   "outputs": [],
   "source": [
    "import numpy as np\n",
    "from PIL import Image, ImageSequence\n",
    "import tifffile as tiff\n",
    "\n",
    "def tiff_to_gif(tiff_path, gif_path, resize_factor=0.5, fps=25):\n",
    "    # Open the TIFF file and read all frames\n",
    "    with tiff.TiffFile(tiff_path) as tif:\n",
    "        # Extract the frames from the TIFF\n",
    "        frames = tif.asarray()\n",
    "    \n",
    "    # Normalize frames to 8-bit range (0-255)\n",
    "    min_val = np.min(frames)\n",
    "    max_val = np.max(frames)\n",
    "    norm_frames = ((frames - min_val) / (max_val - min_val) * 255).astype(np.uint8)\n",
    "    \n",
    "    # Resize frames to reduce GIF size\n",
    "    resized_frames = []\n",
    "    for frame in norm_frames:\n",
    "        img = Image.fromarray(frame)\n",
    "        if resize_factor != 1.0:\n",
    "            new_size = (int(img.width * resize_factor), int(img.height * resize_factor))\n",
    "            img = img.resize(new_size, Image.Resampling.NEAREST)\n",
    "        resized_frames.append(img)\n",
    "    \n",
    "    # Save frames as GIF\n",
    "    resized_frames[0].save(gif_path, save_all=True, append_images=resized_frames[1:], duration=1000/fps, loop=0, optimize=True)\n",
    "\n",
    "\n",
    "\n",
    "def stitch_tiff_to_gif(input_tiff_path, output_tiff_path, gif_path, resize_factor=0.5, fps=25):\n",
    "    # Load input and output TIFF files\n",
    "    with tiff.TiffFile(input_tiff_path) as input_tif:\n",
    "        input_frames = input_tif.asarray()\n",
    "        \n",
    "    with tiff.TiffFile(output_tiff_path) as output_tif:\n",
    "        output_frames = output_tif.asarray()\n",
    "    \n",
    "    # Ensure both sequences have the same number of frames\n",
    "    assert input_frames.shape[0] == output_frames.shape[0], \"Input and Output TIFF files must have the same number of frames\"\n",
    "    \n",
    "    # Normalize frames to 8-bit range (0-255) for both input and output\n",
    "    def normalize_frames(frames):\n",
    "        min_val = np.min(frames)\n",
    "        max_val = np.max(frames)\n",
    "        return ((frames - min_val) / (max_val - min_val) * 255).astype(np.uint8)\n",
    "    \n",
    "    norm_input_frames = normalize_frames(input_frames)\n",
    "    norm_output_frames = normalize_frames(output_frames)\n",
    "    \n",
    "    # Stitch frames side by side and resize\n",
    "    stitched_frames = []\n",
    "    for input_frame, output_frame in zip(norm_input_frames, norm_output_frames):\n",
    "        input_img = Image.fromarray(input_frame)\n",
    "        output_img = Image.fromarray(output_frame)\n",
    "        \n",
    "        # Combine images side by side (horizontally)\n",
    "        stitched_img = Image.new('L', (input_img.width + output_img.width, input_img.height))\n",
    "        stitched_img.paste(input_img, (0, 0))\n",
    "        stitched_img.paste(output_img, (input_img.width, 0))\n",
    "        \n",
    "        # Resize the stitched image if needed\n",
    "        if resize_factor != 1.0:\n",
    "            new_size = (int(stitched_img.width * resize_factor), int(stitched_img.height * resize_factor))\n",
    "            stitched_img = stitched_img.resize(new_size, Image.Resampling.NEAREST)\n",
    "        \n",
    "        stitched_frames.append(stitched_img)\n",
    "    \n",
    "    # Save the stitched frames as a GIF\n",
    "    stitched_frames[0].save(gif_path, save_all=True, append_images=stitched_frames[1:], duration=1000/fps, loop=0, optimize=True)\n"
   ]
  },
  {
   "cell_type": "code",
   "execution_count": null,
   "metadata": {},
   "outputs": [],
   "source": [
    "stitch_tiff_to_gif('/group/jug/projects/AI4Life/calcium_imaging/DeepCAD/Yoda1_20ms_20%_001.tif', \n",
    "                   '/group/jug/edoardo/projects/CalciumImagingDenoising/output/n2v_DeepCAD/Yoda1_20ms_20%_001.tif', \n",
    "                   'N2V_2.gif', resize_factor=0.5, fps=100)"
   ]
  },
  {
   "cell_type": "code",
   "execution_count": 6,
   "metadata": {},
   "outputs": [],
   "source": [
    "tiff_to_gif('/group/jug/projects/AI4Life/calcium_imaging/DeepCAD/Yoda1_20ms_20%_001.tif', \n",
    "                   'N2V_2.gif', resize_factor=0.5, fps=100)"
   ]
  }
 ],
 "metadata": {
  "kernelspec": {
   "display_name": "Python 3",
   "language": "python",
   "name": "python3"
  },
  "language_info": {
   "codemirror_mode": {
    "name": "ipython",
    "version": 3
   },
   "file_extension": ".py",
   "mimetype": "text/x-python",
   "name": "python",
   "nbconvert_exporter": "python",
   "pygments_lexer": "ipython3",
   "version": "3.10.14"
  }
 },
 "nbformat": 4,
 "nbformat_minor": 2
}
