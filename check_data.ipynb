{
 "cells": [
  {
   "cell_type": "code",
   "execution_count": null,
   "metadata": {},
   "outputs": [],
   "source": [
    "import tifffile\n",
    "from pathlib import Path"
   ]
  },
  {
   "cell_type": "code",
   "execution_count": null,
   "metadata": {},
   "outputs": [],
   "source": [
    "DATASET_FOLDER = \"/localscratch/calcium_imaging_dataset/calcium_imaging/Test_Data\"\n",
    "dataset_path = Path(DATASET_FOLDER)"
   ]
  },
  {
   "cell_type": "code",
   "execution_count": null,
   "metadata": {},
   "outputs": [],
   "source": [
    "from pathlib import Path\n",
    "import tifffile as tiff\n",
    "import numpy as np\n",
    "import matplotlib.pyplot as plt\n",
    "\n",
    "# Ensure the folder exists\n",
    "if not dataset_path.is_dir():\n",
    "    raise FileNotFoundError(f\"The folder {DATASET_FOLDER} does not exist.\")\n",
    "\n",
    "# Find all .tif files in the folder (including subdirectories if needed)\n",
    "tif_files = list(dataset_path.rglob(\"*.tif\"))  # Use `rglob` for recursive search\n",
    "\n",
    "# Check if any .tif files were found\n",
    "if not tif_files:\n",
    "    print(\"No .tif files found in the specified folder.\")\n",
    "else:\n",
    "    print(f\"Found {len(tif_files)} .tif file(s).\")\n",
    "\n",
    "histograms = []\n",
    "bin_edges = []\n",
    "\n",
    "# Process each .tif file\n",
    "for file_path in tif_files:\n",
    "    print(f\"Processing file: {file_path}\")\n",
    "    try:\n",
    "        # Read the TIFF file\n",
    "        with tiff.TiffFile(file_path) as tif:\n",
    "            # Load the TIFF data (all frames)\n",
    "            data = tif.asarray()\n",
    "            print(f\"Loaded file {file_path} with shape {data.shape} and dtype {data.dtype}\")\n",
    "            \n",
    "            # Calculate and plot the histogram\n",
    "            title = f\"Histogram for {file_path.name}\"\n",
    "            hist, bins = np.histogram(data, bins=65536, range=(0, 65535))\n",
    "            histograms.append(hist)\n",
    "            bin_edges.append(bins)\n",
    "         \n",
    "\n",
    "    except Exception as e:\n",
    "        print(f\"Failed to process file {file_path}: {e}\")\n"
   ]
  },
  {
   "cell_type": "code",
   "execution_count": null,
   "metadata": {},
   "outputs": [],
   "source": [
    "hists = np.stack(histograms)\n",
    "hists"
   ]
  },
  {
   "cell_type": "code",
   "execution_count": null,
   "metadata": {},
   "outputs": [],
   "source": [
    "np.save(\"test_data_hist\", hists)"
   ]
  },
  {
   "cell_type": "code",
   "execution_count": null,
   "metadata": {},
   "outputs": [],
   "source": [
    "# Iterate over each image's histogram\n",
    "for i in range(hists.shape[0]):\n",
    "    # Get the histogram for the i-th image\n",
    "    image_hist = hists[i]\n",
    "    \n",
    "    # Find the range of non-zero bins\n",
    "    non_zero_indices = np.nonzero(image_hist)[0]\n",
    "    if non_zero_indices.size == 0:\n",
    "        print(f\"Image {i + 1} has no non-zero bins. Skipping.\")\n",
    "        continue\n",
    "    \n",
    "    first_non_zero = non_zero_indices[0]\n",
    "    last_non_zero = non_zero_indices[-1]\n",
    "    \n",
    "    # Extract the relevant part of the histogram\n",
    "    relevant_hist = image_hist[first_non_zero:last_non_zero + 1]\n",
    "    relevant_bins = np.arange(first_non_zero, last_non_zero + 1)\n",
    "    \n",
    "    # Plot the histogram\n",
    "    plt.figure(figsize=(10, 6))\n",
    "    plt.bar(relevant_bins, relevant_hist, width=1, color='blue', alpha=0.7)\n",
    "    plt.title(f\"Histogram for Image {i + 1} (Bins {first_non_zero} to {last_non_zero})\", fontsize=16)\n",
    "    plt.xlabel(\"Pixel Intensity\", fontsize=14)\n",
    "    plt.ylabel(\"Frequency\", fontsize=14)\n",
    "    plt.grid(alpha=0.4)\n",
    "    plt.tight_layout()\n",
    "    plt.show()"
   ]
  },
  {
   "cell_type": "code",
   "execution_count": null,
   "metadata": {},
   "outputs": [],
   "source": [
    "import matplotlib.pyplot as plt\n",
    "import seaborn as sns\n",
    "\n",
    "for h in hists[:, :512]:\n",
    "    plt.figure()\n",
    "    sns.histplot(h, bins=65536)"
   ]
  },
  {
   "cell_type": "code",
   "execution_count": null,
   "metadata": {},
   "outputs": [],
   "source": []
  }
 ],
 "metadata": {
  "kernelspec": {
   "display_name": "Python 3",
   "language": "python",
   "name": "python3"
  },
  "language_info": {
   "codemirror_mode": {
    "name": "ipython",
    "version": 3
   },
   "file_extension": ".py",
   "mimetype": "text/x-python",
   "name": "python",
   "nbconvert_exporter": "python",
   "pygments_lexer": "ipython3",
   "version": "3.10.14"
  }
 },
 "nbformat": 4,
 "nbformat_minor": 2
}
