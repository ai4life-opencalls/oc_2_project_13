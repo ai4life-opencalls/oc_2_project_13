{
 "cells": [
  {
   "cell_type": "markdown",
   "metadata": {},
   "source": [
    "# REFINED_EVALUATION"
   ]
  },
  {
   "cell_type": "code",
   "execution_count": null,
   "metadata": {},
   "outputs": [],
   "source": [
    "import tifffile\n",
    "import matplotlib.pyplot as plt\n",
    "from pathlib import Path\n",
    "import numpy as np\n",
    "from view_utils import create_gif_from_numpy\n",
    "\n",
    "EXPERIMENT_NAMES = [\"REFINED_N2N_1\", \"REFINED_N2V_1\", \"REFINED_N2V_3\", \"REFINED_DEEPCAD_1\"]\n",
    "\n",
    "input_image = tifffile.imread(\"/localscratch/calcium_imaging_dataset/calcium_imaging/refined/test/20ms_20%_Yoda1_009.tif\")\n",
    "average_noise = tifffile.imread(\"/localscratch/calcium_imaging_dataset/calcium_imaging/average_image.tif\")\n",
    "create_gif_from_numpy(input_image, f\"docs/experiments_preview/test_input.gif\", scale_factor=0.5, frame_skip=20)\n",
    "\n",
    "for exp_name in EXPERIMENT_NAMES:\n",
    "    output_image = tifffile.imread(f\"output/{exp_name}/test/20ms_20%_Yoda1_009.tif\")\n",
    "    create_gif_from_numpy(output_image, f\"docs/experiments_preview/{exp_name}.gif\", scale_factor=0.5, frame_skip=20)\n",
    "    create_gif_from_numpy(output_image - average_noise, f\"docs/experiments_preview/{exp_name}_noavg.gif\", scale_factor=0.5, frame_skip=20)"
   ]
  }
 ],
 "metadata": {
  "kernelspec": {
   "display_name": "Python 3",
   "language": "python",
   "name": "python3"
  },
  "language_info": {
   "codemirror_mode": {
    "name": "ipython",
    "version": 3
   },
   "file_extension": ".py",
   "mimetype": "text/x-python",
   "name": "python",
   "nbconvert_exporter": "python",
   "pygments_lexer": "ipython3",
   "version": "3.10.14"
  }
 },
 "nbformat": 4,
 "nbformat_minor": 2
}
