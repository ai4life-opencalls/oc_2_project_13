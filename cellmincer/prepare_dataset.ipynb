{
 "cells": [
  {
   "cell_type": "code",
   "execution_count": 3,
   "metadata": {},
   "outputs": [],
   "source": [
    "import tifffile\n",
    "from pathlib import Path\n",
    "import numpy as np"
   ]
  },
  {
   "cell_type": "code",
   "execution_count": null,
   "metadata": {},
   "outputs": [],
   "source": [
    "IN = Path(\"/localscratch/calcium_imaging_dataset/calcium_imaging/refined/train\")\n",
    "OUT = Path(\"/localscratch/calcium_imaging_dataset/calcium_imaging/refined/cellmincer_train\")"
   ]
  },
  {
   "cell_type": "code",
   "execution_count": null,
   "metadata": {},
   "outputs": [],
   "source": [
    "tiffs = None\n",
    "for p in IN.glob(\"*.tiff\"):\n",
    "    if tiffs is None:\n",
    "        tiffs = tifffile.imread(p)\n",
    "    else:\n",
    "        tiffs = np.concatenate([tiffs, tifffile.imread(p)])\n",
    "tifffile.imwrite(Path.)"
   ]
  }
 ],
 "metadata": {
  "kernelspec": {
   "display_name": "ai4life_calcium_imaging_denoising",
   "language": "python",
   "name": "python3"
  },
  "language_info": {
   "codemirror_mode": {
    "name": "ipython",
    "version": 3
   },
   "file_extension": ".py",
   "mimetype": "text/x-python",
   "name": "python",
   "nbconvert_exporter": "python",
   "pygments_lexer": "ipython3",
   "version": "3.10.14"
  }
 },
 "nbformat": 4,
 "nbformat_minor": 2
}
