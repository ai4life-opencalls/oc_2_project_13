{
 "cells": [
  {
   "cell_type": "markdown",
   "metadata": {},
   "source": [
    "## Data Preparation\n",
    "\n",
    "We use data that is contained in the provided \"Test Data\" folder as they have enough dynamic range to extract information.\n",
    "\n",
    "Test data has been originally subtracted with the microscope ground noise. We added it back to obtain raw data.\n"
   ]
  },
  {
   "cell_type": "code",
   "execution_count": null,
   "metadata": {},
   "outputs": [],
   "source": [
    "import numpy as np\n",
    "import tifffile\n",
    "import seaborn as sns\n",
    "from pathlib import Path\n",
    "import matplotlib.pyplot as plt\n",
    "\n",
    "\n",
    "DATASET_FOLDER = \"/localscratch/calcium_imaging_dataset/calcium_imaging/refined\"\n",
    "datast_path = Path(DATASET_FOLDER)\n",
    "average_image_path = datast_path.joinpath(\"..\", \"average_image.tif\")"
   ]
  },
  {
   "cell_type": "code",
   "execution_count": null,
   "metadata": {},
   "outputs": [],
   "source": [
    "APPLY_AVERAGE = False # Safelock to avoid altering the dataset twice\n",
    "\n",
    "if APPLY_AVERAGE:\n",
    "    average_img = tifffile.imread(average_image_path)\n",
    "\n",
    "    for im_path in list(datast_path.rglob(\"*.tif\")):\n",
    "        tifffile.imwrite(im_path, tifffile.imread(im_path) + average_img)\n",
    "        print(f\"Added average noise to {im_path}\")\n",
    "\n",
    "\n",
    "    frame_to_show = 10\n",
    "    fig, ax = plt.subplots(1, 3, figsize=(18, 6))\n",
    "    ax[0].imshow(average_img, cmap=\"grey\")\n",
    "    ax[0].set_title(f\"Microscope Noise\")\n",
    "    ax[1].imshow(img[frame_to_show], cmap=\"grey\")\n",
    "    ax[1].set_title(f\"Clean Test Data (Frame {frame_to_show})\")\n",
    "    ax[2].imshow(img[frame_to_show] + average_img, cmap=\"grey\")\n",
    "    ax[2].set_title(f\"Raw Data (Frame {frame_to_show})\")\n",
    "    for a in ax:\n",
    "        a.axis(\"off\")"
   ]
  },
  {
   "cell_type": "markdown",
   "metadata": {},
   "source": [
    "![](docs/imgs/test_data_example.png)"
   ]
  },
  {
   "cell_type": "markdown",
   "metadata": {},
   "source": [
    "## Autocorrelation"
   ]
  },
  {
   "cell_type": "code",
   "execution_count": null,
   "metadata": {},
   "outputs": [],
   "source": [
    "import tifffile\n",
    "import matplotlib.pyplot as plt\n",
    "from careamics.utils import autocorrelation\n",
    "\n",
    "train_dataset_path = datast_path.joinpath(\"train\")\n",
    "train_imgs_path = list(train_dataset_path.rglob(\"*.tif\"))\n",
    "\n",
    "frame = 10\n",
    "half_size = 16\n",
    "\n",
    "fig, axes = plt.subplots(1, len(train_imgs_path), figsize=(6*len(train_imgs_path), 6))\n",
    "\n",
    "for ip, ax in zip(train_imgs_path, axes):\n",
    "    img = tifffile.imread(ip)\n",
    "    # Compute autocorrelation at given frame\n",
    "    f, h, w = img.shape\n",
    "    \n",
    "    center_x = (w - 1) // 2\n",
    "    center_y = (h - 1) // 2\n",
    "    left_edge = max(0, center_x - half_size)\n",
    "    right_edge = min(w, center_x + half_size)\n",
    "    bottom_edge = max(0, center_y - half_size)\n",
    "    top_edge = min(h, center_y + half_size)\n",
    "    cropped_img = img[frame, bottom_edge:top_edge, left_edge:right_edge]\n",
    "\n",
    "    ac = autocorrelation(image=cropped_img)\n",
    "\n",
    "    ax.imshow(ac)\n",
    "    ax.axis(\"off\")\n",
    "    ax.set_title(f\"Autocorrelation around {half_size} px from the center. \\n {ip.name}, frame {frame}\")\n",
    "\n"
   ]
  },
  {
   "cell_type": "markdown",
   "metadata": {},
   "source": [
    "# TRAINING Noise2Void"
   ]
  },
  {
   "cell_type": "markdown",
   "metadata": {},
   "source": [
    "To train Noise2Void, we can use the script provided in this repository, which is based on CAREamics. Run the following command after changing the paths to match your dataset folders either in the provided .env_* file, or by specifying them as arguments:\n",
    "\n",
    "```python n2v_train.py -e .env_hpc --level DEBUG --train_dataset_name=train --validation_dataset_name=val --DATASET_FOLDER=/scratch/edoardo.giacomello/calcium_imaging/refined --experiment_name=REFINED_N2V_1 --batch_size=1 --axes=TYX```\n",
    "\n",
    "If needed, you can call the python script with the -h file to obtain a description of the arguments. This script has been written to be able to run also in headless machines (like an HPC).\n",
    "\n",
    "After training, the trained model is stored in models/REFINED_N2V_1."
   ]
  },
  {
   "cell_type": "markdown",
   "metadata": {},
   "source": [
    "# Noise2Void Predictions"
   ]
  },
  {
   "cell_type": "markdown",
   "metadata": {},
   "source": [
    "We now use CAREamics the trained model to predict both the training and validation folds of the dataset."
   ]
  },
  {
   "cell_type": "code",
   "execution_count": null,
   "metadata": {},
   "outputs": [],
   "source": [
    "from envutils import ENV, load_env, get_argparser, log\n",
    "\n",
    "from pathlib import Path\n",
    "import os\n",
    "import tifffile\n",
    "import matplotlib.pyplot as plt\n",
    "import numpy as np\n",
    "\n",
    "from careamics import CAREamist\n",
    "import careamics.dataset.tiling as tiling\n",
    "from careamics.prediction_utils import stitch_prediction_single\n",
    "from typing import List"
   ]
  },
  {
   "cell_type": "code",
   "execution_count": null,
   "metadata": {},
   "outputs": [],
   "source": [
    "\n",
    "dataset_folder = \"/localscratch/calcium_imaging_dataset/calcium_imaging/refined\"\n",
    "models_folder = \"./models\"\n",
    "output_folder = \"./output\"\n",
    "experiment_name = \"REFINED_N2V_1\"\n",
    "patch_size_z=None\n",
    "patch_size=64\n",
    "batch_size=16\n",
    "axes=\"TYX\"\n",
    "model_ckpt='last.ckpt'\n",
    "\n",
    "\n",
    "# Variables and Paths\n",
    "model_folder = os.path.join(models_folder, experiment_name)\n",
    "ckpt_path = os.path.join(model_folder, 'checkpoints', model_ckpt)\n",
    "output_path = os.path.join(output_folder, experiment_name)\n",
    "os.makedirs(output_path, exist_ok=True)\n",
    "\n",
    "# instantiate a CAREamist\n",
    "careamist = CAREamist(\n",
    "    ckpt_path,\n",
    "    work_dir=model_folder, \n",
    ")\n",
    "\n",
    "for dataset_name in ['train', 'val']:\n",
    "    # Predicts over files\n",
    "    for tiff_path_in in sorted(Path(dataset_folder).joinpath(dataset_name).glob(f'*.tif*')):\n",
    "\n",
    "        print(f\"Predicting file {tiff_path_in}\")\n",
    "        tiff_in = tifffile.imread(tiff_path_in)\n",
    "\n",
    "        tiff_out = []\n",
    "        for slice in tiff_in:\n",
    "            tiff_out += careamist.predict(slice, data_type='array', axes=\"YX\")\n",
    "\n",
    "        tiff_out = np.concatenate(tiff_out).squeeze()\n",
    "\n",
    "        tiff_path_out = Path.joinpath(Path(output_path), dataset_name, tiff_path_in.name)\n",
    "        print(f\"Writing prediction to {tiff_path_out}\")\n",
    "        os.makedirs(output_path, exist_ok=True)\n",
    "        tifffile.imwrite(tiff_path_out, tiff_out)"
   ]
  },
  {
   "cell_type": "markdown",
   "metadata": {},
   "source": [
    "Images are now stored in `output/REFINED_N2V_1/[train|val]/*.tif`. \n",
    "\n",
    "If we inspect the validation stack, we can appreciate that the uncorrelated noise has been greatly reduced:\n",
    "\n",
    "![20ms_20%25_Yoda1_008, Frame 10](docs/imgs/n2v_20ms_20%25_Yoda1_008_10.png)\n",
    "\n",
    "However, some correlated noise is still present.\n",
    "\n",
    "In order to also remove correlated noise we can feed the dataset in a second algorithm. \\\n",
    "Possible options could be:\n",
    "- [HDN]() a denoising algorithm that is able to remove correlated noise. However, it requires a Noise Model to be estimated.\n",
    "- [COSDD](https://github.com/krulllab/COSDD), a denoising algorithm specific for horizontally / vertically correlated noise. One current limitation of this method is that only one direction of correlation can be removed at a time.\n"
   ]
  }
 ],
 "metadata": {
  "kernelspec": {
   "display_name": "ai4life_calcium_imaging_denoising",
   "language": "python",
   "name": "python3"
  },
  "language_info": {
   "codemirror_mode": {
    "name": "ipython",
    "version": 3
   },
   "file_extension": ".py",
   "mimetype": "text/x-python",
   "name": "python",
   "nbconvert_exporter": "python",
   "pygments_lexer": "ipython3",
   "version": "3.10.14"
  }
 },
 "nbformat": 4,
 "nbformat_minor": 2
}
