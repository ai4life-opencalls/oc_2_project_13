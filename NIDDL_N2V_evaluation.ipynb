{
 "cells": [
  {
   "cell_type": "code",
   "execution_count": 4,
   "metadata": {},
   "outputs": [],
   "source": [
    "from n2v_predict import predict_n2v\n",
    "from envutils import load_env, ENV\n",
    "from pathlib import Path\n",
    "\n",
    "\n",
    "load_env(\".env_vdi\", \n",
    "         parser_args= {\n",
    "            \"DATASET_FOLDER\": \"/localscratch/calcium_imaging_dataset/calcium_imaging/NIDDL/\",\n",
    "         })\n",
    "\n",
    "EXPERIMENT_NAME = \"NIDDL_N2V_4\"\n",
    "DATASET_NAME = \"Low_SNR\"\n",
    "GT_DATASET_NAME = \"High_SNR\""
   ]
  },
  {
   "cell_type": "code",
   "execution_count": 5,
   "metadata": {},
   "outputs": [],
   "source": [
    "import tifffile\n",
    "import pandas as pd\n",
    "from careamics.utils.metrics import scale_invariant_psnr\n",
    "\n",
    "\n",
    "results = pd.DataFrame()\n",
    "\n",
    "for high_snr_path in Path(ENV[\"DATASET_FOLDER\"]).joinpath(GT_DATASET_NAME).glob(\"*.tif*\"):\n",
    "    low_snr_path = Path(str(high_snr_path).replace(GT_DATASET_NAME, DATASET_NAME).replace(\"200ms\", \"20ms\"))\n",
    "    pred_path = Path(ENV[\"OUTPUT_FOLDER\"]).joinpath(EXPERIMENT_NAME, low_snr_path.name)\n",
    "\n",
    "    high_snr = tifffile.imread(high_snr_path)\n",
    "    low_snr = tifffile.imread(low_snr_path)\n",
    "    pred = tifffile.imread(pred_path)\n",
    "\n",
    "    gt_psnr = scale_invariant_psnr(gt=high_snr, pred=low_snr)\n",
    "    pred_psnr = scale_invariant_psnr(gt=high_snr, pred=pred)\n",
    "    new_row = pd.DataFrame({\"filename\": low_snr_path.name, \"Low_SNR_PSNR\": gt_psnr, \"Pred_PSNR\": pred_psnr}, index=[0])\n",
    "    results = pd.concat([results, new_row], ignore_index=True)\n",
    "\n",
    "results[\"PSNR_diff\"] = results[\"Pred_PSNR\"] - results[\"Low_SNR_PSNR\"]\n",
    "results.to_csv(f'results/{EXPERIMENT_NAME}.csv')"
   ]
  },
  {
   "cell_type": "code",
   "execution_count": 6,
   "metadata": {},
   "outputs": [
    {
     "name": "stdout",
     "output_type": "stream",
     "text": [
      "      Low_SNR_PSNR  Pred_PSNR  PSNR_diff\n",
      "mean     27.589894  30.534130   2.944237\n",
      "std       2.124671   2.707268   1.854985\n"
     ]
    }
   ],
   "source": [
    "\n",
    "mean_values = results[['Low_SNR_PSNR', 'Pred_PSNR', 'PSNR_diff']].mean()\n",
    "std_values = results[['Low_SNR_PSNR', 'Pred_PSNR', 'PSNR_diff']].std()\n",
    "\n",
    "summary_df = pd.DataFrame([mean_values, std_values], index=['mean', 'std'])\n",
    "\n",
    "print(summary_df)"
   ]
  }
 ],
 "metadata": {
  "kernelspec": {
   "display_name": "Python 3",
   "language": "python",
   "name": "python3"
  },
  "language_info": {
   "codemirror_mode": {
    "name": "ipython",
    "version": 3
   },
   "file_extension": ".py",
   "mimetype": "text/x-python",
   "name": "python",
   "nbconvert_exporter": "python",
   "pygments_lexer": "ipython3",
   "version": "3.10.14"
  }
 },
 "nbformat": 4,
 "nbformat_minor": 2
}
