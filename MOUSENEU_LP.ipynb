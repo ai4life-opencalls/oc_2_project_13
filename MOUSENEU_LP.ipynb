{
 "cells": [
  {
   "cell_type": "markdown",
   "metadata": {},
   "source": [
    "# MOUSENEU_LP_N2V_1: Noise2Void 2D on Mouse Neuriter Dataset\n",
    "\n",
    "Dataset is composed one video of mouse neurites for training and one for validation.\n",
    "Videos have size (6500, 490, 490) and are acquired using 66mW power, 30hz frame rate and 40um depth."
   ]
  },
  {
   "cell_type": "code",
   "execution_count": null,
   "metadata": {},
   "outputs": [],
   "source": [
    "#!pip install microssim\n"
   ]
  },
  {
   "cell_type": "code",
   "execution_count": null,
   "metadata": {},
   "outputs": [],
   "source": [
    "import tifffile\n",
    "from pathlib import Path\n",
    "from microssim import MicroSSIM, micro_structural_similarity\n",
    "from skimage.metrics import structural_similarity\n",
    "from careamics.utils.metrics import psnr, scale_invariant_psnr\n",
    "import numpy as np\n",
    "import pandas as pd\n",
    "\n",
    "DATASET_PATH = Path(\"/localscratch/calcium_imaging_dataset/calcium_imaging/MOUSENEU_LP/\")\n",
    "PREDICTIONS_PATH = Path(\"output\")\n",
    "MODELS_TO_COMPARE = ['MOUSENEU_LP_N2N_1', 'MOUSENEU_LP_N2V_1', 'MOUSENEU_LP_DEEPCAD_1']\n",
    "SPLIT_TO_COMPARE = ['train', 'val']"
   ]
  },
  {
   "cell_type": "code",
   "execution_count": null,
   "metadata": {},
   "outputs": [],
   "source": [
    "results = []\n",
    "\n",
    "\n",
    "for split in SPLIT_TO_COMPARE:\n",
    "    input_paths = list(DATASET_PATH.joinpath(f\"{split}\").glob(\"*.tif\"))\n",
    "    for input_path in input_paths:\n",
    "        filename = str(input_path.name)\n",
    "        gt_path = DATASET_PATH.joinpath(f\"{split}_gt\").joinpath(filename.replace(\"lowSNR\", \"highSNR\"))\n",
    "        \n",
    "        gt_image = tifffile.imread(gt_path).astype(np.uint16)\n",
    "        predictions_paths = [(PREDICTIONS_PATH.joinpath(model).joinpath(f\"{split}\").joinpath(filename), model) for model in MODELS_TO_COMPARE]\n",
    "\n",
    "        for target_path, target_name in [(input_path, \"lowSNR\")] + predictions_paths:\n",
    "            target_image = tifffile.imread(target_path).astype(np.uint16)\n",
    "            ms = MicroSSIM()\n",
    "            # Fit microSSIM parameters with 1/10 of the frame to avoid OOM\n",
    "            ms.fit(gt=gt_image[::10], pred=target_image[::10])\n",
    "\n",
    "            for f, (gt_frame, target_frame) in enumerate(zip(gt_image, target_image)):\n",
    "                res = dict()\n",
    "                res[\"frame\"] = f\n",
    "                res[\"target_name\"] = target_name\n",
    "                res[\"split\"] = split\n",
    "                res[\"gt_fp\"] = gt_path.name\n",
    "                res[\"target_fp\"] = target_path.name\n",
    "                res[\"ssim\"] = structural_similarity(gt_frame, target_frame, data_range=65535)\n",
    "                res[\"microssim\"] = ms.score(gt=gt_frame, pred=target_frame)\n",
    "                res[\"psnr\"] = psnr(gt=gt_frame, pred=target_frame, data_range=65535)\n",
    "                res[\"si_psnr\"] = scale_invariant_psnr(gt=gt_frame, pred=target_frame)\n",
    "                results.append(res)\n"
   ]
  },
  {
   "cell_type": "code",
   "execution_count": null,
   "metadata": {},
   "outputs": [],
   "source": [
    "pd_results = pd.DataFrame.from_dict(results)\n",
    "pd_results.to_csv(\"results/MOUSENEU_LP.csv\")"
   ]
  },
  {
   "cell_type": "code",
   "execution_count": null,
   "metadata": {},
   "outputs": [],
   "source": [
    "means = pd_results.groupby([\"split\",\"target_name\", \"gt_fp\", \"target_fp\"]).mean().drop(columns=[\"frame\"])\n",
    "std = pd_results.groupby([\"split\",\"target_name\", \"gt_fp\", \"target_fp\"]).std().drop(columns=[\"frame\"])\n",
    "formatted_df = means.copy()\n",
    "for col in means.columns:\n",
    "    formatted_df[col] = means[col].map('{:.3f}'.format) + \" ± \" + std[col].map('{:.3f}'.format)\n",
    "\n"
   ]
  },
  {
   "cell_type": "code",
   "execution_count": null,
   "metadata": {},
   "outputs": [],
   "source": [
    "formatted_df.to_csv(\"results/MOUSENEU_LP_formatted.csv\")"
   ]
  },
  {
   "cell_type": "code",
   "execution_count": null,
   "metadata": {},
   "outputs": [],
   "source": [
    "import pandas as pd\n",
    "formatted_df = pd.read_csv(\"results/MOUSENEU_LP_formatted.csv\", index_col=0)\n",
    "with open(\"results/MOUSENEU_LP.md\", \"w\") as f:\n",
    "    f.write(formatted_df.to_markdown())"
   ]
  }
 ],
 "metadata": {
  "kernelspec": {
   "display_name": "Python 3",
   "language": "python",
   "name": "python3"
  },
  "language_info": {
   "codemirror_mode": {
    "name": "ipython",
    "version": 3
   },
   "file_extension": ".py",
   "mimetype": "text/x-python",
   "name": "python",
   "nbconvert_exporter": "python",
   "pygments_lexer": "ipython3",
   "version": "3.10.14"
  }
 },
 "nbformat": 4,
 "nbformat_minor": 2
}
