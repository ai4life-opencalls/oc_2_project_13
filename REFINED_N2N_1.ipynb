{
 "cells": [
  {
   "cell_type": "markdown",
   "metadata": {
    "vscode": {
     "languageId": "plaintext"
    }
   },
   "source": [
    "# REFINED_N2N_1\n",
    "\n",
    "### Training Noise2Noise on \"refined\" dataset, using even frames as input and odd frames as ground truth"
   ]
  },
  {
   "cell_type": "markdown",
   "metadata": {},
   "source": [
    "## Train"
   ]
  },
  {
   "cell_type": "markdown",
   "metadata": {},
   "source": [
    "Training will be performed on EVEN vs ODD frames and by using the full training dataset concatenated.\n",
    "To train the model you can run the following script:\n",
    "\n",
    "```bash\n",
    "python n2n_train.py -e .env_hpc --train_dataset_name=train --validation_dataset_name=val --experiment_name=REFINED_N2N_1 --batch_size=128 --axes=SYX\n",
    "```"
   ]
  },
  {
   "cell_type": "markdown",
   "metadata": {},
   "source": [
    "## Predict"
   ]
  },
  {
   "cell_type": "markdown",
   "metadata": {},
   "source": [
    "Prediction can be run on using the following script:\n",
    "\n",
    "```bash\n",
    "python n2n_predict.py -e .env_hpc --level DEBUG --experiment_name=REFINED_N2N_1 --batch_size=16 --patch_size=128\n",
    "```"
   ]
  },
  {
   "cell_type": "code",
   "execution_count": null,
   "metadata": {},
   "outputs": [],
   "source": [
    "import tifffile\n",
    "import matplotlib.pyplot as plt\n",
    "from pathlib import Path\n",
    "import numpy as np\n",
    "\n",
    "EXPERIMENT_NAME = \"REFINED_N2N_1\"\n",
    "\n",
    "input_image = tifffile.imread(\"/localscratch/calcium_imaging_dataset/calcium_imaging/refined/train/20ms_20%_Yoda1_005.tif\")\n",
    "output_image = tifffile.imread(f\"output/{EXPERIMENT_NAME}/train/20ms_20%_Yoda1_005.tif\")\n",
    "average_noise = tifffile.imread(\"/localscratch/calcium_imaging_dataset/calcium_imaging/average_image.tif\")\n",
    "stacked_to_show = np.stack([input_image, output_image, output_image-average_noise])"
   ]
  },
  {
   "cell_type": "code",
   "execution_count": 3,
   "metadata": {},
   "outputs": [
    {
     "data": {
      "application/vnd.jupyter.widget-view+json": {
       "model_id": "ff5bc0d1c7b04fb0ab3713f556e88b48",
       "version_major": 2,
       "version_minor": 0
      },
      "text/plain": [
       "interactive(children=(IntSlider(value=0, description='T', max=1008), Output()), _dom_classes=('widget-interact…"
      ]
     },
     "metadata": {},
     "output_type": "display_data"
    }
   ],
   "source": [
    "from view_utils import display_image_with_slider\n",
    "\n",
    "display_image_with_slider(stacked_to_show, vlim=\"stack\", titles=[\"Input Image\", \"Output of 3D Noise2Noise\", \"Output without Average Microscopy Noise\"])\n"
   ]
  }
 ],
 "metadata": {
  "kernelspec": {
   "display_name": "ai4life_calcium_imaging_denoising",
   "language": "python",
   "name": "python3"
  },
  "language_info": {
   "codemirror_mode": {
    "name": "ipython",
    "version": 3
   },
   "file_extension": ".py",
   "mimetype": "text/x-python",
   "name": "python",
   "nbconvert_exporter": "python",
   "pygments_lexer": "ipython3",
   "version": "3.10.14"
  }
 },
 "nbformat": 4,
 "nbformat_minor": 2
}
