{
 "cells": [
  {
   "cell_type": "markdown",
   "metadata": {},
   "source": [
    "# MOUSENEU_LP_N2V_1: Noise2Void 2D on Mouse Neuriter Dataset\n",
    "\n",
    "Dataset is composed one video of mouse neurites for training and one for validation.\n",
    "Videos have size (6500, 490, 490) and are acquired using 66mW power, 30hz frame rate and 40um depth."
   ]
  },
  {
   "cell_type": "code",
   "execution_count": null,
   "metadata": {},
   "outputs": [],
   "source": [
    "#!pip install microssim"
   ]
  },
  {
   "cell_type": "code",
   "execution_count": 1,
   "metadata": {},
   "outputs": [],
   "source": [
    "import tifffile\n",
    "from pathlib import Path\n",
    "from microssim import MicroSSIM, micro_structural_similarity\n",
    "from skimage.metrics import structural_similarity\n",
    "from careamics.utils.metrics import psnr, scale_invariant_psnr\n",
    "import numpy as np\n",
    "import pandas as pd\n",
    "\n",
    "DATASET_PATH = Path(\"/localscratch/calcium_imaging_dataset/calcium_imaging/MOUSENEU_LP/\")\n",
    "PREDICTIONS_PATH = Path(\"output\")\n",
    "MODELS_TO_COMPARE = ['MOUSENEU_LP_N2N_1', 'MOUSENEU_LP_N2V_1', 'MOUSENEU_LP_DEEPCAD_1']\n",
    "SPLIT_TO_COMPARE = ['train', 'val']"
   ]
  },
  {
   "cell_type": "code",
   "execution_count": null,
   "metadata": {},
   "outputs": [],
   "source": [
    "results = []\n",
    "\n",
    "\n",
    "for split in SPLIT_TO_COMPARE:\n",
    "    input_paths = list(DATASET_PATH.joinpath(f\"{split}\").glob(\"*.tif\"))\n",
    "    for input_path in input_paths:\n",
    "        filename = str(input_path.name)\n",
    "        gt_path = DATASET_PATH.joinpath(f\"{split}_gt\").joinpath(filename.replace(\"lowSNR\", \"highSNR\"))\n",
    "        \n",
    "        gt_image = tifffile.imread(gt_path).astype(np.uint16)\n",
    "        predictions_paths = [(PREDICTIONS_PATH.joinpath(model).joinpath(f\"{split}\").joinpath(filename), model) for model in MODELS_TO_COMPARE]\n",
    "\n",
    "        for target_path, target_name in [(input_path, \"lowSNR\")] + predictions_paths:\n",
    "            target_image = tifffile.imread(target_path).astype(np.uint16)\n",
    "            ms = MicroSSIM()\n",
    "            # Fit microSSIM parameters with 1/10 of the frame to avoid OOM\n",
    "            ms.fit(gt=gt_image[::10], pred=target_image[::10])\n",
    "\n",
    "            for f, (gt_frame, target_frame) in enumerate(zip(gt_image, target_image)):\n",
    "                res = dict()\n",
    "                res[\"frame\"] = f\n",
    "                res[\"target_name\"] = target_name\n",
    "                res[\"split\"] = split\n",
    "                res[\"gt_fp\"] = gt_path.name\n",
    "                res[\"target_fp\"] = target_path.name\n",
    "                res[\"ssim\"] = structural_similarity(gt_frame, target_frame, data_range=65535)\n",
    "                res[\"microssim\"] = ms.score(gt=gt_frame, pred=target_frame)\n",
    "                res[\"psnr\"] = psnr(gt=gt_frame, pred=target_frame, data_range=65535)\n",
    "                res[\"si_psnr\"] = scale_invariant_psnr(gt=gt_frame, pred=target_frame)\n",
    "                results.append(res)\n"
   ]
  },
  {
   "cell_type": "code",
   "execution_count": null,
   "metadata": {},
   "outputs": [],
   "source": [
    "pd_results = pd.DataFrame.from_dict(results)\n",
    "pd_results.to_csv(\"results/MOUSENEU_LP.csv\")"
   ]
  },
  {
   "cell_type": "code",
   "execution_count": null,
   "metadata": {},
   "outputs": [],
   "source": [
    "means = pd_results.groupby([\"split\",\"target_name\", \"gt_fp\", \"target_fp\"]).mean().drop(columns=[\"frame\"])\n",
    "std = pd_results.groupby([\"split\",\"target_name\", \"gt_fp\", \"target_fp\"]).std().drop(columns=[\"frame\"])\n",
    "formatted_df = means.copy()\n",
    "for col in means.columns:\n",
    "    formatted_df[col] = means[col].map('{:.3f}'.format) + \" ± \" + std[col].map('{:.3f}'.format)\n",
    "\n"
   ]
  },
  {
   "cell_type": "code",
   "execution_count": null,
   "metadata": {},
   "outputs": [],
   "source": [
    "formatted_df.to_csv(\"results/MOUSENEU_LP_formatted.csv\")"
   ]
  },
  {
   "cell_type": "code",
   "execution_count": null,
   "metadata": {},
   "outputs": [],
   "source": [
    "import pandas as pd\n",
    "formatted_df = pd.read_csv(\"results/MOUSENEU_LP_formatted.csv\", index_col=0)\n",
    "with open(\"results/MOUSENEU_LP.md\", \"w\") as f:\n",
    "    f.write(formatted_df.to_markdown())"
   ]
  },
  {
   "cell_type": "markdown",
   "metadata": {},
   "source": [
    "# Generate Previews"
   ]
  },
  {
   "cell_type": "code",
   "execution_count": null,
   "metadata": {},
   "outputs": [
    {
     "name": "stdout",
     "output_type": "stream",
     "text": [
      "Processing 01_MouseNeurite_GCaMP6f_66mWpower_40umdepth_30Hz_lowSNR_MCRound1.tif\n"
     ]
    },
    {
     "ename": "ValueError",
     "evalue": "Image must be 2D (grayscale, RGB, or RGBA).",
     "output_type": "error",
     "traceback": [
      "\u001b[0;31m---------------------------------------------------------------------------\u001b[0m",
      "\u001b[0;31mValueError\u001b[0m                                Traceback (most recent call last)",
      "Cell \u001b[0;32mIn[2], line 24\u001b[0m\n\u001b[1;32m     22\u001b[0m \u001b[38;5;28mprint\u001b[39m(\u001b[38;5;124mf\u001b[39m\u001b[38;5;124m\"\u001b[39m\u001b[38;5;124mProcessing \u001b[39m\u001b[38;5;132;01m{\u001b[39;00minput_name\u001b[38;5;132;01m}\u001b[39;00m\u001b[38;5;124m\"\u001b[39m)\n\u001b[1;32m     23\u001b[0m input_image \u001b[38;5;241m=\u001b[39m tifffile\u001b[38;5;241m.\u001b[39mimread(input_tiff_path)        \n\u001b[0;32m---> 24\u001b[0m \u001b[43mcreate_gif_from_numpy\u001b[49m\u001b[43m(\u001b[49m\u001b[43mauto_contrast\u001b[49m\u001b[43m(\u001b[49m\u001b[43minput_image\u001b[49m\u001b[43m)\u001b[49m\u001b[43m,\u001b[49m\u001b[43m \u001b[49m\u001b[38;5;28;43mstr\u001b[39;49m\u001b[43m(\u001b[49m\u001b[43mbase_folder\u001b[49m\u001b[38;5;241;43m.\u001b[39;49m\u001b[43mjoinpath\u001b[49m\u001b[43m(\u001b[49m\u001b[38;5;124;43m\"\u001b[39;49m\u001b[38;5;124;43minput.gif\u001b[39;49m\u001b[38;5;124;43m\"\u001b[39;49m\u001b[43m)\u001b[49m\u001b[43m)\u001b[49m\u001b[43m,\u001b[49m\u001b[43m \u001b[49m\u001b[43mscale_factor\u001b[49m\u001b[38;5;241;43m=\u001b[39;49m\u001b[38;5;241;43m0.5\u001b[39;49m\u001b[43m,\u001b[49m\u001b[43m \u001b[49m\u001b[43mframe_skip\u001b[49m\u001b[38;5;241;43m=\u001b[39;49m\u001b[38;5;241;43m20\u001b[39;49m\u001b[43m)\u001b[49m\n\u001b[1;32m     25\u001b[0m \u001b[38;5;28;01mdel\u001b[39;00m input_image\n\u001b[1;32m     27\u001b[0m \u001b[38;5;28;01mfor\u001b[39;00m exp_name \u001b[38;5;129;01min\u001b[39;00m EXPERIMENT_NAMES:\n",
      "File \u001b[0;32m/group/jug/edoardo/projects/CalciumImagingDenoising/view_utils.py:45\u001b[0m, in \u001b[0;36mcreate_gif_from_numpy\u001b[0;34m(array, output_file, scale_factor, frame_skip, fps)\u001b[0m\n\u001b[1;32m     41\u001b[0m     frames\u001b[38;5;241m.\u001b[39mappend(image)\n\u001b[1;32m     43\u001b[0m     plt\u001b[38;5;241m.\u001b[39mclose(fig)  \u001b[38;5;66;03m# Free memory\u001b[39;00m\n\u001b[0;32m---> 45\u001b[0m \u001b[43mimageio\u001b[49m\u001b[38;5;241;43m.\u001b[39;49m\u001b[43mimwrite\u001b[49m\u001b[43m(\u001b[49m\u001b[43moutput_file\u001b[49m\u001b[43m,\u001b[49m\u001b[43m \u001b[49m\u001b[43mframes\u001b[49m\u001b[43m,\u001b[49m\u001b[43m \u001b[49m\u001b[43mfps\u001b[49m\u001b[38;5;241;43m=\u001b[39;49m\u001b[43mfps\u001b[49m\u001b[43m,\u001b[49m\u001b[43m \u001b[49m\u001b[43mloop\u001b[49m\u001b[38;5;241;43m=\u001b[39;49m\u001b[38;5;241;43m0\u001b[39;49m\u001b[43m)\u001b[49m\n",
      "File \u001b[0;32m/localscratch/conda_environments/ai4life_calcium_imaging_denoising/lib/python3.10/site-packages/imageio/v2.py:392\u001b[0m, in \u001b[0;36mimwrite\u001b[0;34m(uri, im, format, **kwargs)\u001b[0m\n\u001b[1;32m    389\u001b[0m     \u001b[38;5;28;01mraise\u001b[39;00m \u001b[38;5;167;01mValueError\u001b[39;00m(\u001b[38;5;124m\"\u001b[39m\u001b[38;5;124mImage is not numeric, but \u001b[39m\u001b[38;5;132;01m{}\u001b[39;00m\u001b[38;5;124m.\u001b[39m\u001b[38;5;124m\"\u001b[39m\u001b[38;5;241m.\u001b[39mformat(imt\u001b[38;5;241m.\u001b[39m\u001b[38;5;18m__name__\u001b[39m))\n\u001b[1;32m    391\u001b[0m \u001b[38;5;28;01mif\u001b[39;00m is_batch(im) \u001b[38;5;129;01mor\u001b[39;00m im\u001b[38;5;241m.\u001b[39mndim \u001b[38;5;241m<\u001b[39m \u001b[38;5;241m2\u001b[39m:\n\u001b[0;32m--> 392\u001b[0m     \u001b[38;5;28;01mraise\u001b[39;00m \u001b[38;5;167;01mValueError\u001b[39;00m(\u001b[38;5;124m\"\u001b[39m\u001b[38;5;124mImage must be 2D (grayscale, RGB, or RGBA).\u001b[39m\u001b[38;5;124m\"\u001b[39m)\n\u001b[1;32m    394\u001b[0m imopen_args \u001b[38;5;241m=\u001b[39m decypher_format_arg(\u001b[38;5;28mformat\u001b[39m)\n\u001b[1;32m    395\u001b[0m imopen_args[\u001b[38;5;124m\"\u001b[39m\u001b[38;5;124mlegacy_mode\u001b[39m\u001b[38;5;124m\"\u001b[39m] \u001b[38;5;241m=\u001b[39m \u001b[38;5;28;01mTrue\u001b[39;00m\n",
      "\u001b[0;31mValueError\u001b[0m: Image must be 2D (grayscale, RGB, or RGBA)."
     ]
    }
   ],
   "source": [
    "import tifffile\n",
    "import matplotlib.pyplot as plt\n",
    "from pathlib import Path\n",
    "import numpy as np\n",
    "from view_utils import create_gif_from_numpy\n",
    "\n",
    "\n",
    "EXPERIMENT_NAMES = [\"MOUSENEU_LP_N2N_1\", \"MOUSENEU_LP_N2V_1\", \"MOUSENEU_LP_DEEPCAD_1\", \"MOUSENEU_LP_CELLMINCER_1\"]\n",
    "\n",
    "for split in ['train', 'val']:\n",
    "    input_tiff_path = list(DATASET_PATH.joinpath(split).rglob(\"*.tif\"))[0]\n",
    "    input_name = input_tiff_path.name\n",
    "    base_folder = Path(f\"docs/experiments_preview/MOUSENEU_LP/{split}/\")\n",
    "    base_folder.mkdir(parents=True, exist_ok=True)\n",
    "    print(f\"Processing {input_name}\")\n",
    "\n",
    "    input_image = tifffile.imread(input_tiff_path)        \n",
    "    create_gif_from_numpy(input_image, str(base_folder.joinpath(\"input.gif\")), scale_factor=0.5, frame_skip=20)\n",
    "\n",
    "    for exp_name in EXPERIMENT_NAMES:\n",
    "        print(f\"Processing {exp_name}\")\n",
    "        if \"CELLMINCER\" in exp_name:\n",
    "            output_image = tifffile.imread(str(Path(\"output\").joinpath(exp_name).joinpath(split).joinpath(\"denoised_tyx.tif\")))\n",
    "        else: \n",
    "            output_image = tifffile.imread(str(Path(\"output\").joinpath(exp_name).joinpath(split).joinpath(input_name)))\n",
    "\n",
    "        create_gif_from_numpy(output_image, str(base_folder.joinpath(f\"{exp_name}.gif\")), scale_factor=0.5, frame_skip=20)\n",
    "                    \n"
   ]
  },
  {
   "cell_type": "code",
   "execution_count": 3,
   "metadata": {},
   "outputs": [
    {
     "data": {
      "text/plain": [
       "array([[[19920, 19856, 20027, ..., 19849, 20172, 20235],\n",
       "        [19946, 19976, 20537, ..., 20094, 20407, 19753],\n",
       "        [19912, 19894, 19872, ..., 20193, 19813, 21167],\n",
       "        ...,\n",
       "        [19891, 19884, 19984, ..., 20634, 18981, 20421],\n",
       "        [19552, 20088, 20024, ..., 19902, 20103, 19860],\n",
       "        [19905, 20041, 19977, ..., 19887, 20814, 19691]],\n",
       "\n",
       "       [[19863, 19952, 19899, ..., 20001, 19844, 20004],\n",
       "        [19930, 19927, 19894, ..., 19835, 19753, 19837],\n",
       "        [20013, 19829, 19934, ..., 20684, 21583, 21056],\n",
       "        ...,\n",
       "        [19880, 19964, 19847, ..., 19961, 19849, 19956],\n",
       "        [19943, 19915, 20036, ..., 19933, 19906, 19900],\n",
       "        [19922, 19837, 19970, ..., 19945, 19880, 19905]],\n",
       "\n",
       "       [[20631, 20253, 19936, ..., 20380, 19676, 20340],\n",
       "        [20714, 19871, 19883, ..., 19884, 19853, 19695],\n",
       "        [19831, 19872, 19862, ..., 20299, 20321, 20383],\n",
       "        ...,\n",
       "        [19868, 19915, 19917, ..., 19958, 19890, 19887],\n",
       "        [20055, 19915, 19943, ..., 19652, 19927, 19871],\n",
       "        [19906, 19852, 19958, ..., 19925, 19881, 20441]],\n",
       "\n",
       "       ...,\n",
       "\n",
       "       [[20067, 20286, 20111, ..., 20007, 20020, 19993],\n",
       "        [19803, 21331, 20126, ..., 20786, 21251, 20162],\n",
       "        [19829, 20108, 20243, ..., 19540, 22005, 19973],\n",
       "        ...,\n",
       "        [18495, 23133, 18386, ..., 19905, 19899, 19827],\n",
       "        [19869, 19961, 19920, ..., 19979, 19825, 19931],\n",
       "        [19832, 19949, 19838, ..., 19955, 19883, 19964]],\n",
       "\n",
       "       [[19908, 19971, 19868, ..., 21501, 19987, 19951],\n",
       "        [19896, 19973, 20032, ..., 22107, 19514, 20500],\n",
       "        [19874, 19863, 20101, ..., 19517, 20548, 18929],\n",
       "        ...,\n",
       "        [19961, 19881, 19877, ..., 20292, 20190, 19853],\n",
       "        [18964, 20057, 20622, ..., 20606, 20002, 19915],\n",
       "        [19772, 19980, 19863, ..., 19891, 19872, 19951]],\n",
       "\n",
       "       [[19989, 19924, 20058, ..., 20230, 19750, 20101],\n",
       "        [19927, 19837, 19939, ..., 19584, 19877, 19915],\n",
       "        [20072, 19465, 20333, ..., 20275, 19866, 19866],\n",
       "        ...,\n",
       "        [20033, 19872, 19905, ..., 19906, 19930, 19893],\n",
       "        [19899, 19886, 19875, ..., 19918, 19841, 19949],\n",
       "        [19828, 19912, 19877, ..., 19906, 19849, 19897]]], dtype=uint16)"
      ]
     },
     "execution_count": 3,
     "metadata": {},
     "output_type": "execute_result"
    }
   ],
   "source": [
    "ac = auto_contrast(input_image)\n",
    "ac"
   ]
  },
  {
   "cell_type": "code",
   "execution_count": 4,
   "metadata": {},
   "outputs": [
    {
     "data": {
      "text/plain": [
       "(6500, 490, 490)"
      ]
     },
     "execution_count": 4,
     "metadata": {},
     "output_type": "execute_result"
    }
   ],
   "source": [
    "ac.shape"
   ]
  }
 ],
 "metadata": {
  "kernelspec": {
   "display_name": "Python 3",
   "language": "python",
   "name": "python3"
  },
  "language_info": {
   "codemirror_mode": {
    "name": "ipython",
    "version": 3
   },
   "file_extension": ".py",
   "mimetype": "text/x-python",
   "name": "python",
   "nbconvert_exporter": "python",
   "pygments_lexer": "ipython3",
   "version": "3.10.14"
  }
 },
 "nbformat": 4,
 "nbformat_minor": 2
}
