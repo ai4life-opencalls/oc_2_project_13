{
 "cells": [
  {
   "cell_type": "markdown",
   "metadata": {},
   "source": [
    "## Hierarchical DivNoising (HDN)"
   ]
  },
  {
   "cell_type": "markdown",
   "metadata": {},
   "source": [
    "## Bootstrapping Noise Model"
   ]
  },
  {
   "cell_type": "code",
   "execution_count": null,
   "metadata": {},
   "outputs": [],
   "source": [
    "import torch\n",
    "from hdn.lib.gaussianMixtureNoiseModel import GaussianMixtureNoiseModel\n",
    "from hdn.lib import histNoiseModel\n",
    "from hdn.lib.utils import plotProbabilityDistribution\n",
    "\n",
    "import tifffile\n",
    "import numpy as np\n",
    "import matplotlib.pyplot as plt\n",
    "import os\n",
    "import argparse\n",
    "import logging as log\n",
    "\n",
    "import matplotlib.pyplot as plt\n",
    "import matplotlib.animation as animation\n",
    "from PIL import Image\n",
    "from pathlib import Path\n",
    "import numpy as np\n",
    "\n",
    "\n",
    "# Parameters\n",
    "\n",
    "experiment_name = \"REFINED_HDN_1\"\n",
    "\n",
    "signal_folder = \"/localscratch/calcium_imaging_dataset/calcium_imaging/refined/train\"\n",
    "denoised_folder = \"output/REFINED_N2V_1/train\"\n",
    "# FIXME: Experiment is currently running using results folder instead of models\n",
    "output_folder = f\"models/{experiment_name}/\"\n",
    "\n",
    "device = \"cuda\"\n",
    "n_coeff = 2\n",
    "n_gaussian=3\n",
    "gmm_epochs = 2000\n",
    "histogram_bins = 256"
   ]
  },
  {
   "cell_type": "code",
   "execution_count": 2,
   "metadata": {},
   "outputs": [
    {
     "data": {
      "text/plain": [
       "((2116026368,), (2116026368,))"
      ]
     },
     "execution_count": 2,
     "metadata": {},
     "output_type": "execute_result"
    }
   ],
   "source": [
    "# Original dataset\n",
    "signal_tiff = list(Path(signal_folder).rglob(\"*.tif\"))\n",
    "denoised_tiff = list(Path(denoised_folder).rglob(\"*.tif\"))\n",
    "input_tiff = list()\n",
    "# Ensure signal and denoised files are loaded together\n",
    "for stiff in signal_tiff:\n",
    "    dtiff = [t for t in list(denoised_tiff) if t.name == stiff.name][0]\n",
    "    input_tiff.append((stiff, dtiff))\n",
    "\n",
    "signal = []\n",
    "denoised = []\n",
    "\n",
    "for tsig, tden in zip(signal_tiff, denoised_tiff):\n",
    "    signal.append(tifffile.imread(tsig).flatten())\n",
    "    denoised.append(tifffile.imread(tden).flatten())\n",
    "signal = np.concatenate(signal, axis=0)\n",
    "denoised = np.concatenate(denoised, axis=0)\n",
    "minval, maxval = signal.min(), signal.max()\n",
    "signal.shape, denoised.shape"
   ]
  },
  {
   "cell_type": "markdown",
   "metadata": {},
   "source": [
    "Picking 20% of the pixels to tweak the GMM noise model."
   ]
  },
  {
   "cell_type": "code",
   "execution_count": 3,
   "metadata": {},
   "outputs": [],
   "source": [
    "random_perc = 0.20\n",
    "random_indices = np.random.choice(signal.shape[0], int(signal.shape[0]*random_perc), replace=False)\n",
    "signal = signal[random_indices]\n",
    "denoised = denoised[random_indices]"
   ]
  },
  {
   "cell_type": "code",
   "execution_count": 4,
   "metadata": {},
   "outputs": [
    {
     "data": {
      "text/plain": [
       "((423205273,), (423205273,))"
      ]
     },
     "execution_count": 4,
     "metadata": {},
     "output_type": "execute_result"
    }
   ],
   "source": [
    "signal.shape, denoised.shape"
   ]
  },
  {
   "cell_type": "markdown",
   "metadata": {},
   "source": [
    "Training a GMM model with 3 components on the sampled pixels."
   ]
  },
  {
   "cell_type": "code",
   "execution_count": 6,
   "metadata": {},
   "outputs": [
    {
     "ename": "KeyboardInterrupt",
     "evalue": "",
     "output_type": "error",
     "traceback": [
      "\u001b[0;31m---------------------------------------------------------------------------\u001b[0m",
      "\u001b[0;31mKeyboardInterrupt\u001b[0m                         Traceback (most recent call last)",
      "Cell \u001b[0;32mIn[6], line 1\u001b[0m\n\u001b[0;32m----> 1\u001b[0m histogram \u001b[38;5;241m=\u001b[39m \u001b[43mhistNoiseModel\u001b[49m\u001b[38;5;241;43m.\u001b[39;49m\u001b[43mcreateHistogram\u001b[49m\u001b[43m(\u001b[49m\u001b[43mbins\u001b[49m\u001b[38;5;241;43m=\u001b[39;49m\u001b[43mhistogram_bins\u001b[49m\u001b[43m,\u001b[49m\u001b[43m \u001b[49m\n\u001b[1;32m      2\u001b[0m \u001b[43m                                           \u001b[49m\u001b[43mminVal\u001b[49m\u001b[38;5;241;43m=\u001b[39;49m\u001b[43mminval\u001b[49m\u001b[43m,\u001b[49m\u001b[43m \u001b[49m\n\u001b[1;32m      3\u001b[0m \u001b[43m                                           \u001b[49m\u001b[43mmaxVal\u001b[49m\u001b[38;5;241;43m=\u001b[39;49m\u001b[43mmaxval\u001b[49m\u001b[43m,\u001b[49m\u001b[43m \u001b[49m\n\u001b[1;32m      4\u001b[0m \u001b[43m                                           \u001b[49m\u001b[43mobservation\u001b[49m\u001b[38;5;241;43m=\u001b[39;49m\u001b[43mdenoised\u001b[49m\u001b[43m,\u001b[49m\u001b[43m \u001b[49m\n\u001b[1;32m      5\u001b[0m \u001b[43m                                           \u001b[49m\u001b[43msignal\u001b[49m\u001b[38;5;241;43m=\u001b[39;49m\u001b[43msignal\u001b[49m\u001b[43m)\u001b[49m\n\u001b[1;32m      6\u001b[0m histogramFD \u001b[38;5;241m=\u001b[39m histogram[\u001b[38;5;241m0\u001b[39m]\n",
      "File \u001b[0;32m/group/jug/edoardo/projects/CalciumImagingDenoising/hdn/lib/histNoiseModel.py:58\u001b[0m, in \u001b[0;36mcreateHistogram\u001b[0;34m(bins, minVal, maxVal, observation, signal)\u001b[0m\n\u001b[1;32m     53\u001b[0m     observation_\u001b[38;5;241m=\u001b[39mobservation[i]\u001b[38;5;241m.\u001b[39mcopy()\u001b[38;5;241m.\u001b[39mravel()\n\u001b[1;32m     56\u001b[0m     signal_\u001b[38;5;241m=\u001b[39m(signal[i\u001b[38;5;241m/\u001b[39m\u001b[38;5;241m/\u001b[39mimgFactor]\u001b[38;5;241m.\u001b[39mcopy())\u001b[38;5;241m.\u001b[39mravel()\n\u001b[0;32m---> 58\u001b[0m     a \u001b[38;5;241m=\u001b[39m\u001b[43mnp\u001b[49m\u001b[38;5;241;43m.\u001b[39;49m\u001b[43mhistogram2d\u001b[49m\u001b[43m(\u001b[49m\u001b[43msignal_\u001b[49m\u001b[43m,\u001b[49m\u001b[43mobservation_\u001b[49m\u001b[43m,\u001b[49m\u001b[43m \u001b[49m\u001b[43mbins\u001b[49m\u001b[38;5;241;43m=\u001b[39;49m\u001b[43mbins\u001b[49m\u001b[43m,\u001b[49m\u001b[43m \u001b[49m\u001b[38;5;28;43mrange\u001b[39;49m\u001b[38;5;241;43m=\u001b[39;49m\u001b[43m[\u001b[49m\u001b[43mra\u001b[49m\u001b[43m,\u001b[49m\u001b[43m \u001b[49m\u001b[43mra\u001b[49m\u001b[43m]\u001b[49m\u001b[43m)\u001b[49m\n\u001b[1;32m     59\u001b[0m     histogram[\u001b[38;5;241m0\u001b[39m]\u001b[38;5;241m=\u001b[39mhistogram[\u001b[38;5;241m0\u001b[39m]\u001b[38;5;241m+\u001b[39ma[\u001b[38;5;241m0\u001b[39m]\u001b[38;5;241m+\u001b[39m\u001b[38;5;241m1e-30\u001b[39m \u001b[38;5;66;03m#This is for numerical stability\u001b[39;00m\n\u001b[1;32m     63\u001b[0m \u001b[38;5;28;01mfor\u001b[39;00m i \u001b[38;5;129;01min\u001b[39;00m \u001b[38;5;28mrange\u001b[39m (bins):\n",
      "File \u001b[0;32m/localscratch/conda_environments/ai4life_calcium_imaging_denoising/lib/python3.10/site-packages/numpy/lib/_twodim_base_impl.py:825\u001b[0m, in \u001b[0;36mhistogram2d\u001b[0;34m(x, y, bins, range, density, weights)\u001b[0m\n\u001b[1;32m    823\u001b[0m     xedges \u001b[38;5;241m=\u001b[39m yedges \u001b[38;5;241m=\u001b[39m asarray(bins)\n\u001b[1;32m    824\u001b[0m     bins \u001b[38;5;241m=\u001b[39m [xedges, yedges]\n\u001b[0;32m--> 825\u001b[0m hist, edges \u001b[38;5;241m=\u001b[39m \u001b[43mhistogramdd\u001b[49m\u001b[43m(\u001b[49m\u001b[43m[\u001b[49m\u001b[43mx\u001b[49m\u001b[43m,\u001b[49m\u001b[43m \u001b[49m\u001b[43my\u001b[49m\u001b[43m]\u001b[49m\u001b[43m,\u001b[49m\u001b[43m \u001b[49m\u001b[43mbins\u001b[49m\u001b[43m,\u001b[49m\u001b[43m \u001b[49m\u001b[38;5;28;43mrange\u001b[39;49m\u001b[43m,\u001b[49m\u001b[43m \u001b[49m\u001b[43mdensity\u001b[49m\u001b[43m,\u001b[49m\u001b[43m \u001b[49m\u001b[43mweights\u001b[49m\u001b[43m)\u001b[49m\n\u001b[1;32m    826\u001b[0m \u001b[38;5;28;01mreturn\u001b[39;00m hist, edges[\u001b[38;5;241m0\u001b[39m], edges[\u001b[38;5;241m1\u001b[39m]\n",
      "File \u001b[0;32m/localscratch/conda_environments/ai4life_calcium_imaging_denoising/lib/python3.10/site-packages/numpy/lib/_histograms_impl.py:1073\u001b[0m, in \u001b[0;36mhistogramdd\u001b[0;34m(sample, bins, range, density, weights)\u001b[0m\n\u001b[1;32m   1070\u001b[0m hist \u001b[38;5;241m=\u001b[39m hist\u001b[38;5;241m.\u001b[39mreshape(nbin)\n\u001b[1;32m   1072\u001b[0m \u001b[38;5;66;03m# This preserves the (bad) behavior observed in gh-7845, for now.\u001b[39;00m\n\u001b[0;32m-> 1073\u001b[0m hist \u001b[38;5;241m=\u001b[39m \u001b[43mhist\u001b[49m\u001b[38;5;241;43m.\u001b[39;49m\u001b[43mastype\u001b[49m\u001b[43m(\u001b[49m\u001b[38;5;28;43mfloat\u001b[39;49m\u001b[43m,\u001b[49m\u001b[43m \u001b[49m\u001b[43mcasting\u001b[49m\u001b[38;5;241;43m=\u001b[39;49m\u001b[38;5;124;43m'\u001b[39;49m\u001b[38;5;124;43msafe\u001b[39;49m\u001b[38;5;124;43m'\u001b[39;49m\u001b[43m)\u001b[49m\n\u001b[1;32m   1075\u001b[0m \u001b[38;5;66;03m# Remove outliers (indices 0 and -1 for each dimension).\u001b[39;00m\n\u001b[1;32m   1076\u001b[0m core \u001b[38;5;241m=\u001b[39m D\u001b[38;5;241m*\u001b[39m(\u001b[38;5;28mslice\u001b[39m(\u001b[38;5;241m1\u001b[39m, \u001b[38;5;241m-\u001b[39m\u001b[38;5;241m1\u001b[39m),)\n",
      "\u001b[0;31mKeyboardInterrupt\u001b[0m: "
     ]
    }
   ],
   "source": [
    "histogram = histNoiseModel.createHistogram(bins=histogram_bins, \n",
    "                                           minVal=minval, \n",
    "                                           maxVal=maxval, \n",
    "                                           observation=denoised, \n",
    "                                           signal=signal)\n",
    "histogramFD = histogram[0]\n"
   ]
  },
  {
   "cell_type": "code",
   "execution_count": null,
   "metadata": {},
   "outputs": [],
   "source": [
    "# Create output folder and save histogram\n",
    "Path(output_folder).joinpath(\"noise_model\").mkdir(exist_ok=True, parents=True)\n",
    "np.save(str(Path(output_folder).joinpath(\"noise_model\").joinpath(\"histogram.npy\")), histogram)\n",
    "\n",
    "gaussianMixtureNoiseModel = GaussianMixtureNoiseModel(min_signal = minval, max_signal = maxval, path=str(Path(output_folder).joinpath(\"noise_model\"))+'/', weight = None, n_gaussian = n_gaussian, n_coeff = n_coeff, device = device, min_sigma = 50)\n"
   ]
  },
  {
   "cell_type": "code",
   "execution_count": null,
   "metadata": {},
   "outputs": [
    {
     "name": "stdout",
     "output_type": "stream",
     "text": [
      "0 3.641833543777466\n",
      "100 3.60882830619812\n",
      "===================\n",
      "\n",
      "The trained parameters (GMM) is saved at location: models/REFINED_HDN_1//\n"
     ]
    }
   ],
   "source": [
    "# Train GMM\n",
    "gaussianMixtureNoiseModel.train(signal, denoised, batchSize = 250000, n_epochs = gmm_epochs, learning_rate = 0.1, name = 'GMM', lowerClip = 0.1, upperClip = 99.9)"
   ]
  },
  {
   "cell_type": "code",
   "execution_count": null,
   "metadata": {},
   "outputs": [],
   "source": [
    "!pip install -U ipywidgets"
   ]
  },
  {
   "cell_type": "code",
   "execution_count": 12,
   "metadata": {},
   "outputs": [
    {
     "data": {
      "application/vnd.jupyter.widget-view+json": {
       "model_id": "5c988235ca444755be49d374be8114f1",
       "version_major": 2,
       "version_minor": 0
      },
      "text/plain": [
       "interactive(children=(FloatSlider(value=881.0, description='signal_value', max=1047.0, min=715.0, step=3.32), …"
      ]
     },
     "metadata": {},
     "output_type": "display_data"
    }
   ],
   "source": [
    "import numpy as np\n",
    "import torch\n",
    "import matplotlib.pyplot as plt\n",
    "from ipywidgets import interact, FloatSlider\n",
    "\n",
    "def plot_gmm_likelihood(gaussianMixtureNoiseModel, min_signal, max_signal, n_bin, device):\n",
    "    \"\"\"\n",
    "    Interactive function to analyze the GMM likelihood for various signal values.\n",
    "    Uses ipywidgets for dynamic interaction.\n",
    "    \n",
    "    Args:\n",
    "        gaussianMixtureNoiseModel: A GMM with a `likelihood(observations, signal)` method.\n",
    "        min_signal (float): Minimum signal value.\n",
    "        max_signal (float): Maximum signal value.\n",
    "        n_bin (int): Number of bins for discretizing the signal range.\n",
    "        device (torch.device): Device for tensor computations (CPU/GPU).\n",
    "    \"\"\"\n",
    "    def update(signal_value):\n",
    "        # Discretize the observation range\n",
    "        bin_size = (max_signal - min_signal) / n_bin\n",
    "        observation_values = np.arange(min_signal, max_signal, bin_size) + bin_size / 2\n",
    "        observations_torch = torch.from_numpy(observation_values).float().to(device)\n",
    "        \n",
    "        # Convert the signal value to tensor\n",
    "        signal_torch = torch.tensor(signal_value, dtype=torch.float32).to(device)\n",
    "        \n",
    "        # Compute likelihood from the GMM\n",
    "        likelihood_torch = gaussianMixtureNoiseModel.likelihood(observations_torch, signal_torch)\n",
    "        likelihood_numpy = likelihood_torch.cpu().detach().numpy()\n",
    "        \n",
    "        # Plot the likelihood\n",
    "        plt.figure(figsize=(10, 5))\n",
    "        plt.plot(observation_values, likelihood_numpy, label=f'GMM Likelihood (s = {signal_value:.2f})', color='red', linewidth=2)\n",
    "        plt.ylim(0, 1)  # Fix y-axis scale\n",
    "        plt.xlabel('Observation (x)')\n",
    "        plt.ylabel('Probability Density')\n",
    "        plt.title(f'Probability Distribution P(x|s) for Signal s = {signal_value:.2f}')\n",
    "        plt.legend()\n",
    "        plt.grid(True)\n",
    "        plt.show()\n",
    "    \n",
    "    # Create interactive slider for signal value\n",
    "    interact(update, signal_value=FloatSlider(value=(min_signal + max_signal) / 2, \n",
    "                                              min=min_signal, max=max_signal, step=(max_signal - min_signal) / 100))\n",
    "\n",
    "plot_gmm_likelihood(gaussianMixtureNoiseModel, minval, maxval, 100, device)"
   ]
  },
  {
   "cell_type": "code",
   "execution_count": 7,
   "metadata": {},
   "outputs": [],
   "source": [
    "# Load the GMM model\n",
    "gaussianMixtureNoiseModel = GaussianMixtureNoiseModel(min_signal = minval, \n",
    "                                                      max_signal = maxval, \n",
    "                                                      path=output_folder+'/', \n",
    "                                                      weight = None, \n",
    "                                                      n_gaussian = n_gaussian,\n",
    "                                                      n_coeff = n_coeff,\n",
    "                                                      device = device, \n",
    "                                                      min_sigma = 50, \n",
    "                                                      params=np.load(output_folder+'GMM.npz', allow_pickle=True))\n",
    "\n"
   ]
  },
  {
   "cell_type": "code",
   "execution_count": 6,
   "metadata": {},
   "outputs": [
    {
     "data": {
      "text/plain": [
       "NpzFile 'models/REFINED_HDN_1/GMM.npz' with keys: trained_weight, min_signal, max_signal, min_sigma"
      ]
     },
     "execution_count": 6,
     "metadata": {},
     "output_type": "execute_result"
    }
   ],
   "source": [
    "gaussianMixtureNoiseModel.likelihood()"
   ]
  },
  {
   "cell_type": "code",
   "execution_count": null,
   "metadata": {},
   "outputs": [],
   "source": [
    "histogram_bins = 250\n",
    "histogram = histNoiseModel.createHistogram(bins=histogram_bins, minVal=minval, maxVal=maxval, observation=denoised, signal=signal)"
   ]
  }
 ],
 "metadata": {
  "kernelspec": {
   "display_name": "ai4life_calcium_imaging_denoising",
   "language": "python",
   "name": "python3"
  },
  "language_info": {
   "codemirror_mode": {
    "name": "ipython",
    "version": 3
   },
   "file_extension": ".py",
   "mimetype": "text/x-python",
   "name": "python",
   "nbconvert_exporter": "python",
   "pygments_lexer": "ipython3",
   "version": "3.10.14"
  }
 },
 "nbformat": 4,
 "nbformat_minor": 2
}
